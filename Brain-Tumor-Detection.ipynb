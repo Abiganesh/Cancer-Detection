{
 "cells": [
  {
   "cell_type": "code",
   "execution_count": 8,
   "metadata": {},
   "outputs": [],
   "source": [
    "import warnings\n",
    "warnings.filterwarnings('ignore')"
   ]
  },
  {
   "cell_type": "code",
   "execution_count": 9,
   "metadata": {},
   "outputs": [],
   "source": [
    "import numpy as np\n",
    "import matplotlib.pyplot as plt\n",
    "import os\n",
    "import math\n",
    "import shutil\n",
    "import glob"
   ]
  },
  {
   "cell_type": "code",
   "execution_count": 10,
   "metadata": {},
   "outputs": [],
   "source": [
    "folder=\"E:/externel code/Cancer detection using deep learning/Data\""
   ]
  },
  {
   "cell_type": "code",
   "execution_count": 11,
   "metadata": {},
   "outputs": [],
   "source": [
    "number_of_images={}\n",
    "for dir in os.listdir(folder):\n",
    "    number_of_images[dir]=len(os.listdir(os.path.join(folder,dir)))\n",
    " \n"
   ]
  },
  {
   "cell_type": "code",
   "execution_count": 12,
   "metadata": {},
   "outputs": [
    {
     "data": {
      "text/plain": [
       "{'Normal': 286, 'Tumor': 331}"
      ]
     },
     "execution_count": 12,
     "metadata": {},
     "output_type": "execute_result"
    }
   ],
   "source": [
    "number_of_images"
   ]
  },
  {
   "cell_type": "code",
   "execution_count": 13,
   "metadata": {},
   "outputs": [],
   "source": [
    "#splitting the data for training and testing"
   ]
  },
  {
   "cell_type": "code",
   "execution_count": 16,
   "metadata": {},
   "outputs": [],
   "source": [
    "#create folder\n",
    "def datafolder(p,split):\n",
    "    if not os.path.exists(\"./\"+p):\n",
    "        os.mkdir(\"./\"+p)\n",
    "        for dir in os.listdir(folder):\n",
    "            os.makedirs(\"./\"+p+\"/\"+dir)\n",
    "            for img in np.random.choice(a=os.listdir(os.path.join(folder,dir)),\n",
    "                                        size=(math.floor(split*number_of_images[dir])-5),\n",
    "                                        replace=False):\n",
    "                O=os.path.join(folder,dir,img)\n",
    "                D=os.path.join(\"./\"+p,dir)\n",
    "                shutil.copy(O,D)\n",
    "                os.remove(O)\n",
    "    else:\n",
    "        print(f\"{p}folder exists\")"
   ]
  },
  {
   "cell_type": "code",
   "execution_count": 17,
   "metadata": {},
   "outputs": [
    {
     "name": "stdout",
     "output_type": "stream",
     "text": [
      "trainfolder exists\n"
     ]
    }
   ],
   "source": [
    "datafolder(\"train\",0.7)"
   ]
  },
  {
   "cell_type": "code",
   "execution_count": 18,
   "metadata": {},
   "outputs": [],
   "source": [
    "datafolder(\"val\",0.15)"
   ]
  },
  {
   "cell_type": "code",
   "execution_count": 19,
   "metadata": {},
   "outputs": [],
   "source": [
    "datafolder(\"test\",0.15)"
   ]
  },
  {
   "cell_type": "code",
   "execution_count": 20,
   "metadata": {},
   "outputs": [],
   "source": [
    "number_of_images={}\n",
    "for dir in os.listdir(folder):\n",
    "    number_of_images[dir]=len(os.listdir(os.path.join(folder,dir)))"
   ]
  },
  {
   "cell_type": "code",
   "execution_count": 21,
   "metadata": {},
   "outputs": [
    {
     "data": {
      "text/plain": [
       "{'Normal': 17, 'Tumor': 17}"
      ]
     },
     "execution_count": 21,
     "metadata": {},
     "output_type": "execute_result"
    }
   ],
   "source": [
    "number_of_images"
   ]
  },
  {
   "cell_type": "code",
   "execution_count": 36,
   "metadata": {},
   "outputs": [],
   "source": [
    "from keras.layers import Conv2D, MaxPool2D,Dropout, Flatten, Dense, BatchNormalization, GlobalAvgPool2D\n",
    "from keras.models import Sequential\n",
    "from keras.preprocessing.image import ImageDataGenerator\n",
    "import keras"
   ]
  },
  {
   "cell_type": "code",
   "execution_count": 33,
   "metadata": {},
   "outputs": [],
   "source": [
    "model=Sequential()\n",
    "model.add(Conv2D(filters=16,kernel_size=(3,3),activation='relu',input_shape=(224,224,3)))\n",
    "model.add(Conv2D(filters=36,kernel_size=(3,3),activation='relu'))\n",
    "model.add(MaxPool2D(pool_size=(2,2)))\n",
    "model.add(Conv2D(filters=64,kernel_size=(3,3),activation='relu'))\n",
    "model.add(MaxPool2D(pool_size=(2,2)))\n",
    "model.add(Conv2D(filters=128,kernel_size=(3,3),activation='relu'))\n",
    "model.add(MaxPool2D(pool_size=(2,2)))\n",
    "model.add(Dropout(rate=0.25))\n",
    "model.add(Flatten())\n",
    "model.add(Dense(units=64,activation='relu'))\n",
    "model.add(Dropout(rate=0.25))\n",
    "model.add(Dense(units=1,activation='sigmoid'))"
   ]
  },
  {
   "cell_type": "code",
   "execution_count": 34,
   "metadata": {},
   "outputs": [
    {
     "name": "stdout",
     "output_type": "stream",
     "text": [
      "Model: \"sequential_7\"\n",
      "_________________________________________________________________\n",
      " Layer (type)                Output Shape              Param #   \n",
      "=================================================================\n",
      " conv2d_6 (Conv2D)           (None, 222, 222, 16)      448       \n",
      "                                                                 \n",
      " conv2d_7 (Conv2D)           (None, 220, 220, 36)      5220      \n",
      "                                                                 \n",
      " max_pooling2d_3 (MaxPooling  (None, 110, 110, 36)     0         \n",
      " 2D)                                                             \n",
      "                                                                 \n",
      " conv2d_8 (Conv2D)           (None, 108, 108, 64)      20800     \n",
      "                                                                 \n",
      " max_pooling2d_4 (MaxPooling  (None, 54, 54, 64)       0         \n",
      " 2D)                                                             \n",
      "                                                                 \n",
      " conv2d_9 (Conv2D)           (None, 52, 52, 128)       73856     \n",
      "                                                                 \n",
      " max_pooling2d_5 (MaxPooling  (None, 26, 26, 128)      0         \n",
      " 2D)                                                             \n",
      "                                                                 \n",
      " dropout (Dropout)           (None, 26, 26, 128)       0         \n",
      "                                                                 \n",
      " flatten (Flatten)           (None, 86528)             0         \n",
      "                                                                 \n",
      " dense (Dense)               (None, 64)                5537856   \n",
      "                                                                 \n",
      " dropout_1 (Dropout)         (None, 64)                0         \n",
      "                                                                 \n",
      " dense_1 (Dense)             (None, 1)                 65        \n",
      "                                                                 \n",
      "=================================================================\n",
      "Total params: 5,638,245\n",
      "Trainable params: 5,638,245\n",
      "Non-trainable params: 0\n",
      "_________________________________________________________________\n"
     ]
    }
   ],
   "source": [
    "model.summary()"
   ]
  },
  {
   "cell_type": "code",
   "execution_count": 35,
   "metadata": {},
   "outputs": [],
   "source": [
    "model.compile(optimizer='adam',loss=keras.losses.binary_crossentropy, metrics=['accuracy'])"
   ]
  },
  {
   "cell_type": "code",
   "execution_count": 37,
   "metadata": {},
   "outputs": [],
   "source": [
    "def preprocessingimages(path):\n",
    "    image_data=ImageDataGenerator(zoom_range=0.2, shear_range=0.2,rescale=1/255, horizontal_flip=True)\n",
    "    image=image_data.flow_from_directory(directory=path,target_size=(224,224),batch_size=32,class_mode='binary')\n",
    "    return image"
   ]
  },
  {
   "cell_type": "code",
   "execution_count": 38,
   "metadata": {},
   "outputs": [
    {
     "data": {
      "text/plain": [
       "'E:\\\\externel code\\\\Cancer detection using deep learning'"
      ]
     },
     "execution_count": 38,
     "metadata": {},
     "output_type": "execute_result"
    }
   ],
   "source": [
    "pwd"
   ]
  },
  {
   "cell_type": "code",
   "execution_count": 48,
   "metadata": {},
   "outputs": [
    {
     "name": "stdout",
     "output_type": "stream",
     "text": [
      "Found 421 images belonging to 2 classes.\n"
     ]
    }
   ],
   "source": [
    "path=\"./train\"\n",
    "train_data=preprocessingimages(path)"
   ]
  },
  {
   "cell_type": "code",
   "execution_count": 43,
   "metadata": {},
   "outputs": [],
   "source": [
    "def preprocessingimages2(path):\n",
    "    image_data=ImageDataGenerator(rescale=1/255)\n",
    "    image=image_data.flow_from_directory(directory=path,target_size=(224,224),batch_size=32,class_mode='binary')\n",
    "    return image"
   ]
  },
  {
   "cell_type": "code",
   "execution_count": 49,
   "metadata": {},
   "outputs": [
    {
     "name": "stdout",
     "output_type": "stream",
     "text": [
      "Found 81 images belonging to 2 classes.\n"
     ]
    }
   ],
   "source": [
    "path=\"./val\"\n",
    "val_data=preprocessingimages2(path)"
   ]
  },
  {
   "cell_type": "code",
   "execution_count": 50,
   "metadata": {},
   "outputs": [
    {
     "name": "stdout",
     "output_type": "stream",
     "text": [
      "Found 81 images belonging to 2 classes.\n"
     ]
    }
   ],
   "source": [
    "path=\"./test\"\n",
    "test_data=preprocessingimages2(path)"
   ]
  },
  {
   "cell_type": "code",
   "execution_count": 47,
   "metadata": {},
   "outputs": [],
   "source": [
    "from keras.callbacks import ModelCheckpoint,EarlyStopping\n",
    "es=EarlyStopping(monitor=\"val_accuracy\",min_delta=0.01,patience=3,verbose=1,mode='auto')\n",
    "mc=ModelCheckpoint(monitor=\"val_accuracy\",filepath=\"./bestmodel.h5\",verbose=1,save_best_only=True,mode='auto')\n",
    "cd=[es,mc]"
   ]
  },
  {
   "cell_type": "code",
   "execution_count": 51,
   "metadata": {},
   "outputs": [
    {
     "name": "stdout",
     "output_type": "stream",
     "text": [
      "Epoch 1/30\n",
      "8/8 [==============================] - ETA: 0s - loss: 0.8515 - accuracy: 0.5547WARNING:tensorflow:Your input ran out of data; interrupting training. Make sure that your dataset or generator can generate at least `steps_per_epoch * epochs` batches (in this case, 16 batches). You may need to use the repeat() function when building your dataset.\n",
      "\n",
      "Epoch 00001: val_accuracy improved from -inf to 0.66667, saving model to .\\bestmodel.h5\n",
      "8/8 [==============================] - 14s 2s/step - loss: 0.8515 - accuracy: 0.5547 - val_loss: 0.6668 - val_accuracy: 0.6667\n",
      "Epoch 2/30\n",
      "8/8 [==============================] - ETA: 0s - loss: 0.6562 - accuracy: 0.6680WARNING:tensorflow:Early stopping conditioned on metric `val_accuracy` which is not available. Available metrics are: loss,accuracy\n",
      "WARNING:tensorflow:Can save best model only with val_accuracy available, skipping.\n",
      "8/8 [==============================] - 10s 1s/step - loss: 0.6562 - accuracy: 0.6680\n",
      "Epoch 3/30\n",
      "8/8 [==============================] - ETA: 0s - loss: 0.6293 - accuracy: 0.6856WARNING:tensorflow:Early stopping conditioned on metric `val_accuracy` which is not available. Available metrics are: loss,accuracy\n",
      "WARNING:tensorflow:Can save best model only with val_accuracy available, skipping.\n",
      "8/8 [==============================] - 9s 1s/step - loss: 0.6293 - accuracy: 0.6856\n",
      "Epoch 4/30\n",
      "8/8 [==============================] - ETA: 0s - loss: 0.5784 - accuracy: 0.6987WARNING:tensorflow:Early stopping conditioned on metric `val_accuracy` which is not available. Available metrics are: loss,accuracy\n",
      "WARNING:tensorflow:Can save best model only with val_accuracy available, skipping.\n",
      "8/8 [==============================] - 9s 1s/step - loss: 0.5784 - accuracy: 0.6987\n",
      "Epoch 5/30\n",
      "8/8 [==============================] - ETA: 0s - loss: 0.4900 - accuracy: 0.7598WARNING:tensorflow:Early stopping conditioned on metric `val_accuracy` which is not available. Available metrics are: loss,accuracy\n",
      "WARNING:tensorflow:Can save best model only with val_accuracy available, skipping.\n",
      "8/8 [==============================] - 9s 1s/step - loss: 0.4900 - accuracy: 0.7598\n",
      "Epoch 6/30\n",
      "8/8 [==============================] - ETA: 0s - loss: 0.5679 - accuracy: 0.7148WARNING:tensorflow:Early stopping conditioned on metric `val_accuracy` which is not available. Available metrics are: loss,accuracy\n",
      "WARNING:tensorflow:Can save best model only with val_accuracy available, skipping.\n",
      "8/8 [==============================] - 10s 1s/step - loss: 0.5679 - accuracy: 0.7148\n",
      "Epoch 7/30\n",
      "8/8 [==============================] - ETA: 0s - loss: 0.5781 - accuracy: 0.7074WARNING:tensorflow:Early stopping conditioned on metric `val_accuracy` which is not available. Available metrics are: loss,accuracy\n",
      "WARNING:tensorflow:Can save best model only with val_accuracy available, skipping.\n",
      "8/8 [==============================] - 10s 1s/step - loss: 0.5781 - accuracy: 0.7074\n",
      "Epoch 8/30\n",
      "8/8 [==============================] - ETA: 0s - loss: 0.5887 - accuracy: 0.6550WARNING:tensorflow:Early stopping conditioned on metric `val_accuracy` which is not available. Available metrics are: loss,accuracy\n",
      "WARNING:tensorflow:Can save best model only with val_accuracy available, skipping.\n",
      "8/8 [==============================] - 10s 1s/step - loss: 0.5887 - accuracy: 0.6550\n",
      "Epoch 9/30\n",
      "8/8 [==============================] - ETA: 0s - loss: 0.5723 - accuracy: 0.7109WARNING:tensorflow:Early stopping conditioned on metric `val_accuracy` which is not available. Available metrics are: loss,accuracy\n",
      "WARNING:tensorflow:Can save best model only with val_accuracy available, skipping.\n",
      "8/8 [==============================] - 10s 1s/step - loss: 0.5723 - accuracy: 0.7109\n",
      "Epoch 10/30\n",
      "8/8 [==============================] - ETA: 0s - loss: 0.5371 - accuracy: 0.7227WARNING:tensorflow:Early stopping conditioned on metric `val_accuracy` which is not available. Available metrics are: loss,accuracy\n",
      "WARNING:tensorflow:Can save best model only with val_accuracy available, skipping.\n",
      "8/8 [==============================] - 10s 1s/step - loss: 0.5371 - accuracy: 0.7227\n",
      "Epoch 11/30\n",
      "8/8 [==============================] - ETA: 0s - loss: 0.5419 - accuracy: 0.7555WARNING:tensorflow:Early stopping conditioned on metric `val_accuracy` which is not available. Available metrics are: loss,accuracy\n",
      "WARNING:tensorflow:Can save best model only with val_accuracy available, skipping.\n",
      "8/8 [==============================] - 9s 1s/step - loss: 0.5419 - accuracy: 0.7555\n",
      "Epoch 12/30\n",
      "8/8 [==============================] - ETA: 0s - loss: 0.5479 - accuracy: 0.7461WARNING:tensorflow:Early stopping conditioned on metric `val_accuracy` which is not available. Available metrics are: loss,accuracy\n",
      "WARNING:tensorflow:Can save best model only with val_accuracy available, skipping.\n",
      "8/8 [==============================] - 10s 1s/step - loss: 0.5479 - accuracy: 0.7461\n",
      "Epoch 13/30\n",
      "8/8 [==============================] - ETA: 0s - loss: 0.5013 - accuracy: 0.7891WARNING:tensorflow:Early stopping conditioned on metric `val_accuracy` which is not available. Available metrics are: loss,accuracy\n",
      "WARNING:tensorflow:Can save best model only with val_accuracy available, skipping.\n",
      "8/8 [==============================] - 10s 1s/step - loss: 0.5013 - accuracy: 0.7891\n",
      "Epoch 14/30\n",
      "8/8 [==============================] - ETA: 0s - loss: 0.4740 - accuracy: 0.7817WARNING:tensorflow:Early stopping conditioned on metric `val_accuracy` which is not available. Available metrics are: loss,accuracy\n",
      "WARNING:tensorflow:Can save best model only with val_accuracy available, skipping.\n",
      "8/8 [==============================] - 9s 1s/step - loss: 0.4740 - accuracy: 0.7817\n",
      "Epoch 15/30\n",
      "8/8 [==============================] - ETA: 0s - loss: 0.5022 - accuracy: 0.7817WARNING:tensorflow:Early stopping conditioned on metric `val_accuracy` which is not available. Available metrics are: loss,accuracy\n",
      "WARNING:tensorflow:Can save best model only with val_accuracy available, skipping.\n",
      "8/8 [==============================] - 9s 1s/step - loss: 0.5022 - accuracy: 0.7817\n",
      "Epoch 16/30\n",
      "8/8 [==============================] - ETA: 0s - loss: 0.4781 - accuracy: 0.8035WARNING:tensorflow:Early stopping conditioned on metric `val_accuracy` which is not available. Available metrics are: loss,accuracy\n",
      "WARNING:tensorflow:Can save best model only with val_accuracy available, skipping.\n",
      "8/8 [==============================] - 9s 1s/step - loss: 0.4781 - accuracy: 0.8035\n",
      "Epoch 17/30\n",
      "8/8 [==============================] - ETA: 0s - loss: 0.5049 - accuracy: 0.7293WARNING:tensorflow:Early stopping conditioned on metric `val_accuracy` which is not available. Available metrics are: loss,accuracy\n",
      "WARNING:tensorflow:Can save best model only with val_accuracy available, skipping.\n",
      "8/8 [==============================] - 9s 1s/step - loss: 0.5049 - accuracy: 0.7293\n",
      "Epoch 18/30\n",
      "8/8 [==============================] - ETA: 0s - loss: 0.5325 - accuracy: 0.7162WARNING:tensorflow:Early stopping conditioned on metric `val_accuracy` which is not available. Available metrics are: loss,accuracy\n",
      "WARNING:tensorflow:Can save best model only with val_accuracy available, skipping.\n",
      "8/8 [==============================] - 9s 1s/step - loss: 0.5325 - accuracy: 0.7162\n",
      "Epoch 19/30\n",
      "8/8 [==============================] - ETA: 0s - loss: 0.5011 - accuracy: 0.7555WARNING:tensorflow:Early stopping conditioned on metric `val_accuracy` which is not available. Available metrics are: loss,accuracy\n",
      "WARNING:tensorflow:Can save best model only with val_accuracy available, skipping.\n",
      "8/8 [==============================] - 9s 1s/step - loss: 0.5011 - accuracy: 0.7555\n",
      "Epoch 20/30\n",
      "8/8 [==============================] - ETA: 0s - loss: 0.4694 - accuracy: 0.8079WARNING:tensorflow:Early stopping conditioned on metric `val_accuracy` which is not available. Available metrics are: loss,accuracy\n",
      "WARNING:tensorflow:Can save best model only with val_accuracy available, skipping.\n",
      "8/8 [==============================] - 9s 1s/step - loss: 0.4694 - accuracy: 0.8079\n",
      "Epoch 21/30\n",
      "8/8 [==============================] - ETA: 0s - loss: 0.4072 - accuracy: 0.7948WARNING:tensorflow:Early stopping conditioned on metric `val_accuracy` which is not available. Available metrics are: loss,accuracy\n"
     ]
    },
    {
     "name": "stdout",
     "output_type": "stream",
     "text": [
      "WARNING:tensorflow:Can save best model only with val_accuracy available, skipping.\n",
      "8/8 [==============================] - 9s 1s/step - loss: 0.4072 - accuracy: 0.7948\n",
      "Epoch 22/30\n",
      "8/8 [==============================] - ETA: 0s - loss: 0.4263 - accuracy: 0.8086WARNING:tensorflow:Early stopping conditioned on metric `val_accuracy` which is not available. Available metrics are: loss,accuracy\n",
      "WARNING:tensorflow:Can save best model only with val_accuracy available, skipping.\n",
      "8/8 [==============================] - 10s 1s/step - loss: 0.4263 - accuracy: 0.8086\n",
      "Epoch 23/30\n",
      "8/8 [==============================] - ETA: 0s - loss: 0.4911 - accuracy: 0.7617WARNING:tensorflow:Early stopping conditioned on metric `val_accuracy` which is not available. Available metrics are: loss,accuracy\n",
      "WARNING:tensorflow:Can save best model only with val_accuracy available, skipping.\n",
      "8/8 [==============================] - 10s 1s/step - loss: 0.4911 - accuracy: 0.7617\n",
      "Epoch 24/30\n",
      "8/8 [==============================] - ETA: 0s - loss: 0.4141 - accuracy: 0.8438WARNING:tensorflow:Early stopping conditioned on metric `val_accuracy` which is not available. Available metrics are: loss,accuracy\n",
      "WARNING:tensorflow:Can save best model only with val_accuracy available, skipping.\n",
      "8/8 [==============================] - 10s 1s/step - loss: 0.4141 - accuracy: 0.8438\n",
      "Epoch 25/30\n",
      "8/8 [==============================] - ETA: 0s - loss: 0.4281 - accuracy: 0.8122WARNING:tensorflow:Early stopping conditioned on metric `val_accuracy` which is not available. Available metrics are: loss,accuracy\n",
      "WARNING:tensorflow:Can save best model only with val_accuracy available, skipping.\n",
      "8/8 [==============================] - 10s 1s/step - loss: 0.4281 - accuracy: 0.8122\n",
      "Epoch 26/30\n",
      "8/8 [==============================] - ETA: 0s - loss: 0.4863 - accuracy: 0.7642WARNING:tensorflow:Early stopping conditioned on metric `val_accuracy` which is not available. Available metrics are: loss,accuracy\n",
      "WARNING:tensorflow:Can save best model only with val_accuracy available, skipping.\n",
      "8/8 [==============================] - 10s 1s/step - loss: 0.4863 - accuracy: 0.7642\n",
      "Epoch 27/30\n",
      "8/8 [==============================] - ETA: 0s - loss: 0.4282 - accuracy: 0.7904WARNING:tensorflow:Early stopping conditioned on metric `val_accuracy` which is not available. Available metrics are: loss,accuracy\n",
      "WARNING:tensorflow:Can save best model only with val_accuracy available, skipping.\n",
      "8/8 [==============================] - 9s 1s/step - loss: 0.4282 - accuracy: 0.7904\n",
      "Epoch 28/30\n",
      "8/8 [==============================] - ETA: 0s - loss: 0.4679 - accuracy: 0.7891WARNING:tensorflow:Early stopping conditioned on metric `val_accuracy` which is not available. Available metrics are: loss,accuracy\n",
      "WARNING:tensorflow:Can save best model only with val_accuracy available, skipping.\n",
      "8/8 [==============================] - 11s 1s/step - loss: 0.4679 - accuracy: 0.7891\n",
      "Epoch 29/30\n",
      "8/8 [==============================] - ETA: 0s - loss: 0.4540 - accuracy: 0.7695WARNING:tensorflow:Early stopping conditioned on metric `val_accuracy` which is not available. Available metrics are: loss,accuracy\n",
      "WARNING:tensorflow:Can save best model only with val_accuracy available, skipping.\n",
      "8/8 [==============================] - 10s 1s/step - loss: 0.4540 - accuracy: 0.7695\n",
      "Epoch 30/30\n",
      "8/8 [==============================] - ETA: 0s - loss: 0.4298 - accuracy: 0.8166WARNING:tensorflow:Early stopping conditioned on metric `val_accuracy` which is not available. Available metrics are: loss,accuracy\n",
      "WARNING:tensorflow:Can save best model only with val_accuracy available, skipping.\n",
      "8/8 [==============================] - 10s 1s/step - loss: 0.4298 - accuracy: 0.8166\n"
     ]
    }
   ],
   "source": [
    "history=model.fit_generator(generator=train_data,steps_per_epoch=8,epochs=30,verbose=1,\n",
    "                            validation_data=val_data,validation_steps=16,callbacks=cd)"
   ]
  },
  {
   "cell_type": "code",
   "execution_count": 53,
   "metadata": {},
   "outputs": [
    {
     "data": {
      "text/plain": [
       "dict_keys(['loss', 'accuracy', 'val_loss', 'val_accuracy'])"
      ]
     },
     "execution_count": 53,
     "metadata": {},
     "output_type": "execute_result"
    }
   ],
   "source": [
    "history.history.keys()"
   ]
  },
  {
   "cell_type": "code",
   "execution_count": 59,
   "metadata": {},
   "outputs": [
    {
     "data": {
      "image/png": "[encoded data removed]",
      "text/plain": [
       "<Figure size 432x288 with 1 Axes>"
      ]
     },
     "metadata": {
      "needs_background": "light"
     },
     "output_type": "display_data"
    }
   ],
   "source": [
    "import matplotlib.pyplot as plt\n",
    "plt.plot(history.history['accuracy'])\n",
    "plt.title(\"ac vs val_ac\")\n",
    "plt.show()"
   ]
  },
  {
   "cell_type": "code",
   "execution_count": 67,
   "metadata": {},
   "outputs": [
    {
     "data": {
      "image/png": "[encoded data removed]",
      "text/plain": [
       "<Figure size 432x288 with 1 Axes>"
      ]
     },
     "metadata": {
      "needs_background": "light"
     },
     "output_type": "display_data"
    }
   ],
   "source": [
    "plt.plot(history.history['loss'])\n",
    "plt.plot(history.history['accuracy'],c=\"red\")\n",
    "plt.show()"
   ]
  },
  {
   "cell_type": "code",
   "execution_count": 68,
   "metadata": {},
   "outputs": [],
   "source": [
    "from keras.models import load_model\n",
    "model=load_model(\"bestmodel.h5\")"
   ]
  },
  {
   "cell_type": "code",
   "execution_count": 69,
   "metadata": {},
   "outputs": [],
   "source": [
    "acc=model.evaluate_generator(test_data)"
   ]
  },
  {
   "cell_type": "code",
   "execution_count": 72,
   "metadata": {},
   "outputs": [
    {
     "data": {
      "text/plain": [
       "[0.6670122742652893, 0.6790123581886292]"
      ]
     },
     "execution_count": 72,
     "metadata": {},
     "output_type": "execute_result"
    }
   ],
   "source": [
    "acc"
   ]
  },
  {
   "cell_type": "code",
   "execution_count": 74,
   "metadata": {},
   "outputs": [],
   "source": [
    "from keras.preprocessing.image import load_img,img_to_array"
   ]
  },
  {
   "cell_type": "code",
   "execution_count": 76,
   "metadata": {},
   "outputs": [
    {
     "data": {
      "text/plain": [
       "'E:\\\\externel code\\\\Cancer detection using deep learning'"
      ]
     },
     "execution_count": 76,
     "metadata": {},
     "output_type": "execute_result"
    }
   ],
   "source": [
    "pwd"
   ]
  },
  {
   "cell_type": "code",
   "execution_count": 86,
   "metadata": {},
   "outputs": [
    {
     "name": "stdout",
     "output_type": "stream",
     "text": [
      "Image contain Tumor\n"
     ]
    }
   ],
   "source": [
    "path=\"./Data/Tumor/aug_Y4_0_6587.jpg\"\n",
    "img=load_img(path,target_size=(224,224))\n",
    "input_arr=img_to_array(img)/255\n",
    "input_arr=np.expand_dims(input_arr,axis=0)\n",
    "pred=model.predict(input_arr)[0]\n",
    "pred\n",
    "if(pred>=0.5):\n",
    "    print(\"Image contain Tumor\")\n",
    "else:\n",
    "    print(\"Image not contain Tumor\")"
   ]
  },
  {
   "cell_type": "code",
   "execution_count": 83,
   "metadata": {},
   "outputs": [
    {
     "data": {
      "text/plain": [
       "{'Normal': 0, 'Tumor': 1}"
      ]
     },
     "execution_count": 83,
     "metadata": {},
     "output_type": "execute_result"
    }
   ],
   "source": [
    "train_data.class_indices"
   ]
  },
  {
   "cell_type": "code",
   "execution_count": 88,
   "metadata": {},
   "outputs": [
    {
     "name": "stdout",
     "output_type": "stream",
     "text": [
      "Image not contain Tumor\n"
     ]
    }
   ],
   "source": [
    "path=\"./Data/Normal/aug_12 no_0_1201.jpg\"\n",
    "img=load_img(path,target_size=(224,224))\n",
    "input_arr=img_to_array(img)/255\n",
    "input_arr=np.expand_dims(input_arr,axis=0)\n",
    "pred=model.predict(input_arr)[0]\n",
    "pred\n",
    "if(pred>=0.5):\n",
    "    print(\"Image contain Tumor\")\n",
    "else:\n",
    "    print(\"Image not contain Tumor\")"
   ]
  },
  {
   "cell_type": "code",
   "execution_count": null,
   "metadata": {},
   "outputs": [],
   "source": []
  }
 ],
 "metadata": {
  "kernelspec": {
   "display_name": "Python 3",
   "language": "python",
   "name": "python3"
  },
  "language_info": {
   "codemirror_mode": {
    "name": "ipython",
    "version": 3
   },
   "file_extension": ".py",
   "mimetype": "text/x-python",
   "name": "python",
   "nbconvert_exporter": "python",
   "pygments_lexer": "ipython3",
   "version": "3.8.5"
  }
 },
 "nbformat": 4,
 "nbformat_minor": 4
}
